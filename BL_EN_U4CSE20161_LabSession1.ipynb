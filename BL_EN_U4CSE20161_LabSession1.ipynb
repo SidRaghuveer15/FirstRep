{
  "nbformat": 4,
  "nbformat_minor": 0,
  "metadata": {
    "colab": {
      "provenance": [],
      "collapsed_sections": [],
      "mount_file_id": "1pteMOMy63dMCCeFXK1EvceO6ivIVkXz-",
      "authorship_tag": "ABX9TyOqDV5BT4bwADEU1+Y1Q0Gv",
      "include_colab_link": true
    },
    "kernelspec": {
      "name": "python3",
      "display_name": "Python 3"
    },
    "language_info": {
      "name": "python"
    }
  },
  "cells": [
    {
      "cell_type": "markdown",
      "metadata": {
        "id": "view-in-github",
        "colab_type": "text"
      },
      "source": [
        "<a href=\"https://colab.research.google.com/github/SidRaghuveer15/FirstRep/blob/main/BL_EN_U4CSE20161_LabSession1.ipynb\" target=\"_parent\"><img src=\"https://colab.research.google.com/assets/colab-badge.svg\" alt=\"Open In Colab\"/></a>"
      ]
    },
    {
      "cell_type": "code",
      "execution_count": 71,
      "metadata": {
        "colab": {
          "base_uri": "https://localhost:8080/",
          "height": 206
        },
        "id": "mWRXOvVT0LmG",
        "outputId": "44a860f2-3ff4-450f-a591-5a4556140f93"
      },
      "outputs": [
        {
          "output_type": "execute_result",
          "data": {
            "text/plain": [
              "  Customer  Candies (#)  Mangoes (Kg)  Milk Packets (#)  Payment (Rs)\n",
              "0      C_1           20             6                 2           386\n",
              "1      C_2           16             3                 6           289\n",
              "2      C_3           27             6                 2           393\n",
              "3      C_4           19             1                 2           110\n",
              "4      C_5           24             4                 2           280"
            ],
            "text/html": [
              "\n",
              "  <div id=\"df-893aafca-4f44-490f-bdfb-f693f401d8c9\">\n",
              "    <div class=\"colab-df-container\">\n",
              "      <div>\n",
              "<style scoped>\n",
              "    .dataframe tbody tr th:only-of-type {\n",
              "        vertical-align: middle;\n",
              "    }\n",
              "\n",
              "    .dataframe tbody tr th {\n",
              "        vertical-align: top;\n",
              "    }\n",
              "\n",
              "    .dataframe thead th {\n",
              "        text-align: right;\n",
              "    }\n",
              "</style>\n",
              "<table border=\"1\" class=\"dataframe\">\n",
              "  <thead>\n",
              "    <tr style=\"text-align: right;\">\n",
              "      <th></th>\n",
              "      <th>Customer</th>\n",
              "      <th>Candies (#)</th>\n",
              "      <th>Mangoes (Kg)</th>\n",
              "      <th>Milk Packets (#)</th>\n",
              "      <th>Payment (Rs)</th>\n",
              "    </tr>\n",
              "  </thead>\n",
              "  <tbody>\n",
              "    <tr>\n",
              "      <th>0</th>\n",
              "      <td>C_1</td>\n",
              "      <td>20</td>\n",
              "      <td>6</td>\n",
              "      <td>2</td>\n",
              "      <td>386</td>\n",
              "    </tr>\n",
              "    <tr>\n",
              "      <th>1</th>\n",
              "      <td>C_2</td>\n",
              "      <td>16</td>\n",
              "      <td>3</td>\n",
              "      <td>6</td>\n",
              "      <td>289</td>\n",
              "    </tr>\n",
              "    <tr>\n",
              "      <th>2</th>\n",
              "      <td>C_3</td>\n",
              "      <td>27</td>\n",
              "      <td>6</td>\n",
              "      <td>2</td>\n",
              "      <td>393</td>\n",
              "    </tr>\n",
              "    <tr>\n",
              "      <th>3</th>\n",
              "      <td>C_4</td>\n",
              "      <td>19</td>\n",
              "      <td>1</td>\n",
              "      <td>2</td>\n",
              "      <td>110</td>\n",
              "    </tr>\n",
              "    <tr>\n",
              "      <th>4</th>\n",
              "      <td>C_5</td>\n",
              "      <td>24</td>\n",
              "      <td>4</td>\n",
              "      <td>2</td>\n",
              "      <td>280</td>\n",
              "    </tr>\n",
              "  </tbody>\n",
              "</table>\n",
              "</div>\n",
              "      <button class=\"colab-df-convert\" onclick=\"convertToInteractive('df-893aafca-4f44-490f-bdfb-f693f401d8c9')\"\n",
              "              title=\"Convert this dataframe to an interactive table.\"\n",
              "              style=\"display:none;\">\n",
              "        \n",
              "  <svg xmlns=\"http://www.w3.org/2000/svg\" height=\"24px\"viewBox=\"0 0 24 24\"\n",
              "       width=\"24px\">\n",
              "    <path d=\"M0 0h24v24H0V0z\" fill=\"none\"/>\n",
              "    <path d=\"M18.56 5.44l.94 2.06.94-2.06 2.06-.94-2.06-.94-.94-2.06-.94 2.06-2.06.94zm-11 1L8.5 8.5l.94-2.06 2.06-.94-2.06-.94L8.5 2.5l-.94 2.06-2.06.94zm10 10l.94 2.06.94-2.06 2.06-.94-2.06-.94-.94-2.06-.94 2.06-2.06.94z\"/><path d=\"M17.41 7.96l-1.37-1.37c-.4-.4-.92-.59-1.43-.59-.52 0-1.04.2-1.43.59L10.3 9.45l-7.72 7.72c-.78.78-.78 2.05 0 2.83L4 21.41c.39.39.9.59 1.41.59.51 0 1.02-.2 1.41-.59l7.78-7.78 2.81-2.81c.8-.78.8-2.07 0-2.86zM5.41 20L4 18.59l7.72-7.72 1.47 1.35L5.41 20z\"/>\n",
              "  </svg>\n",
              "      </button>\n",
              "      \n",
              "  <style>\n",
              "    .colab-df-container {\n",
              "      display:flex;\n",
              "      flex-wrap:wrap;\n",
              "      gap: 12px;\n",
              "    }\n",
              "\n",
              "    .colab-df-convert {\n",
              "      background-color: #E8F0FE;\n",
              "      border: none;\n",
              "      border-radius: 50%;\n",
              "      cursor: pointer;\n",
              "      display: none;\n",
              "      fill: #1967D2;\n",
              "      height: 32px;\n",
              "      padding: 0 0 0 0;\n",
              "      width: 32px;\n",
              "    }\n",
              "\n",
              "    .colab-df-convert:hover {\n",
              "      background-color: #E2EBFA;\n",
              "      box-shadow: 0px 1px 2px rgba(60, 64, 67, 0.3), 0px 1px 3px 1px rgba(60, 64, 67, 0.15);\n",
              "      fill: #174EA6;\n",
              "    }\n",
              "\n",
              "    [theme=dark] .colab-df-convert {\n",
              "      background-color: #3B4455;\n",
              "      fill: #D2E3FC;\n",
              "    }\n",
              "\n",
              "    [theme=dark] .colab-df-convert:hover {\n",
              "      background-color: #434B5C;\n",
              "      box-shadow: 0px 1px 3px 1px rgba(0, 0, 0, 0.15);\n",
              "      filter: drop-shadow(0px 1px 2px rgba(0, 0, 0, 0.3));\n",
              "      fill: #FFFFFF;\n",
              "    }\n",
              "  </style>\n",
              "\n",
              "      <script>\n",
              "        const buttonEl =\n",
              "          document.querySelector('#df-893aafca-4f44-490f-bdfb-f693f401d8c9 button.colab-df-convert');\n",
              "        buttonEl.style.display =\n",
              "          google.colab.kernel.accessAllowed ? 'block' : 'none';\n",
              "\n",
              "        async function convertToInteractive(key) {\n",
              "          const element = document.querySelector('#df-893aafca-4f44-490f-bdfb-f693f401d8c9');\n",
              "          const dataTable =\n",
              "            await google.colab.kernel.invokeFunction('convertToInteractive',\n",
              "                                                     [key], {});\n",
              "          if (!dataTable) return;\n",
              "\n",
              "          const docLinkHtml = 'Like what you see? Visit the ' +\n",
              "            '<a target=\"_blank\" href=https://colab.research.google.com/notebooks/data_table.ipynb>data table notebook</a>'\n",
              "            + ' to learn more about interactive tables.';\n",
              "          element.innerHTML = '';\n",
              "          dataTable['output_type'] = 'display_data';\n",
              "          await google.colab.output.renderOutput(dataTable, element);\n",
              "          const docLink = document.createElement('div');\n",
              "          docLink.innerHTML = docLinkHtml;\n",
              "          element.appendChild(docLink);\n",
              "        }\n",
              "      </script>\n",
              "    </div>\n",
              "  </div>\n",
              "  "
            ]
          },
          "metadata": {},
          "execution_count": 71
        }
      ],
      "source": [
        "import pandas as pd\n",
        "import numpy as np\n",
        "from scipy import linalg as ln\n",
        "from numpy.linalg import pinv\n",
        "from numpy.linalg import matrix_rank\n",
        "url = \"https://raw.githubusercontent.com/SidRaghuveer15/FirstRep/main/Lab%20Session1%20Data.csv\"\n",
        "dataset1 = pd.read_csv(url)\n",
        "dataset1.head()"
      ]
    },
    {
      "cell_type": "code",
      "source": [
        "#Please load the data and segregate them into 2 matrices A & C\n",
        "A=dataset1.iloc[:, 1:4].values\n",
        "C=dataset1.iloc[:,4].values\n",
        "print(A)\n",
        "print(C)"
      ],
      "metadata": {
        "colab": {
          "base_uri": "https://localhost:8080/"
        },
        "id": "GHE2B7rbaOT5",
        "outputId": "bdd8252d-d065-4068-cd5e-597238c30063"
      },
      "execution_count": 72,
      "outputs": [
        {
          "output_type": "stream",
          "name": "stdout",
          "text": [
            "[[20  6  2]\n",
            " [16  3  6]\n",
            " [27  6  2]\n",
            " [19  1  2]\n",
            " [24  4  2]\n",
            " [22  1  5]\n",
            " [15  4  2]\n",
            " [18  4  2]\n",
            " [21  1  4]\n",
            " [16  2  4]]\n",
            "[386 289 393 110 280 167 271 274 148 198]\n"
          ]
        }
      ]
    },
    {
      "cell_type": "code",
      "source": [
        "#What is the dimensionality of the vector space for this data?\n",
        "print(dataset1.shape)\n",
        "\n",
        "#What is the rank of Matrix A?\n",
        "matrix_rank(A)"
      ],
      "metadata": {
        "colab": {
          "base_uri": "https://localhost:8080/"
        },
        "id": "zCZq5-cYaVRO",
        "outputId": "5e2dfdfa-2375-4b8e-c913-901968dd3851"
      },
      "execution_count": 73,
      "outputs": [
        {
          "output_type": "stream",
          "name": "stdout",
          "text": [
            "(10, 5)\n"
          ]
        },
        {
          "output_type": "execute_result",
          "data": {
            "text/plain": [
              "3"
            ]
          },
          "metadata": {},
          "execution_count": 73
        }
      ]
    },
    {
      "cell_type": "code",
      "source": [
        "#Using Pseudo-Inverse find the cost of each product available for sale\n",
        "A_inverse=pinv(A)\n",
        "print(A_inverse)"
      ],
      "metadata": {
        "colab": {
          "base_uri": "https://localhost:8080/"
        },
        "id": "3pvs6cfMfcls",
        "outputId": "95358ab0-b33a-46d2-d55c-71455028adfa"
      },
      "execution_count": 74,
      "outputs": [
        {
          "output_type": "stream",
          "name": "stdout",
          "text": [
            "[[-0.01008596 -0.03124505  0.01013951  0.0290728   0.0182907   0.01161794\n",
            "  -0.00771348  0.00095458  0.01743623 -0.00542016]\n",
            " [ 0.09059668  0.07263726  0.03172933 -0.09071908 -0.01893196 -0.06926996\n",
            "   0.05675464  0.03152577 -0.07641966  0.00357352]\n",
            " [ 0.00299878  0.15874243 -0.05795468 -0.06609024 -0.06295043  0.03348017\n",
            "   0.01541831 -0.01070461  0.00029003  0.05938755]]\n"
          ]
        }
      ]
    },
    {
      "cell_type": "code",
      "source": [
        "#Use the Pseudo-inverse to calculate the model vector X for predicting the cost of the products available with the vendor.\n",
        "np.dot(A_inverse, C)"
      ],
      "metadata": {
        "colab": {
          "base_uri": "https://localhost:8080/"
        },
        "id": "vUAOffMDo4Gf",
        "outputId": "d0b48c92-c4e9-4ebc-fb84-e9059b659a8a"
      },
      "execution_count": 75,
      "outputs": [
        {
          "output_type": "execute_result",
          "data": {
            "text/plain": [
              "array([ 1., 55., 18.])"
            ]
          },
          "metadata": {},
          "execution_count": 75
        }
      ]
    },
    {
      "cell_type": "code",
      "source": [
        "#Mark all customers(in “Purchase Data” table)with paymentsabove Rs. 200 as RICH and others as POOR. Develop a classifier model to categorize customers into RICH or POOR class based on purchase behavior.\n",
        "df = np.where(dataset1['Payment (Rs)']> 200, \"Rich\", \"Poor\") \n",
        "print(df)"
      ],
      "metadata": {
        "colab": {
          "base_uri": "https://localhost:8080/"
        },
        "id": "BxrDhurCpNM6",
        "outputId": "bf71989b-1730-429c-dd8d-747fb7aa0507"
      },
      "execution_count": 76,
      "outputs": [
        {
          "output_type": "stream",
          "name": "stdout",
          "text": [
            "['Rich' 'Rich' 'Rich' 'Poor' 'Rich' 'Poor' 'Rich' 'Rich' 'Poor' 'Poor']\n"
          ]
        }
      ]
    },
    {
      "cell_type": "code",
      "source": [
        "#Please refer to the data present in “IRCTC Stock Price” data sheet of the above excel file. Do the following after loading the data to your programming platform.\n",
        "path = \"/content/drive/MyDrive/5th SEMESTER INFORMATION/19CSE305 MACHINE LEARNING/AssignmentHW1/Lab Session1 Data.xlsx\"\n",
        "sheet_name = \"IRCTC Stock Price\"\n",
        "IRC = pd.read_excel(path, sheet_name)\n",
        "IRC"
      ],
      "metadata": {
        "colab": {
          "base_uri": "https://localhost:8080/",
          "height": 424
        },
        "id": "qzhw7fsA54JL",
        "outputId": "3c7ad6e8-ede6-41d6-bb74-886abae6feb2"
      },
      "execution_count": 77,
      "outputs": [
        {
          "output_type": "execute_result",
          "data": {
            "text/plain": [
              "             Date Month  Day    Price     Open     High      Low   Volume  \\\n",
              "0    Jun 29, 2021   Jun  Tue  2081.85  2092.00  2126.90  2065.05    1.67M   \n",
              "1    Jun 28, 2021   Jun  Mon  2077.75  2084.00  2112.45  2068.40  707.73K   \n",
              "2    Jun 25, 2021   Jun  Fri  2068.85  2084.35  2088.50  2053.10  475.82K   \n",
              "3    Jun 24, 2021   Jun  Thu  2072.95  2098.00  2098.00  2066.00  541.51K   \n",
              "4    Jun 23, 2021   Jun  Wed  2078.25  2102.00  2111.40  2072.00  809.62K   \n",
              "..            ...   ...  ...      ...      ...      ...      ...      ...   \n",
              "244  Jul 07, 2020   Jul  Tue  1397.40  1410.00  1411.00  1390.05  480.21K   \n",
              "245  Jul 06, 2020   Jul  Mon  1400.75  1405.50  1415.50  1394.00  614.93K   \n",
              "246  Jul 03, 2020   Jul  Fri  1405.10  1415.00  1425.00  1398.00  599.49K   \n",
              "247  Jul 02, 2020   Jul  Thu  1412.35  1440.00  1467.80  1395.30    2.16M   \n",
              "248  Jul 01, 2020   Jul  Wed  1363.05  1363.65  1377.00  1356.00  383.00K   \n",
              "\n",
              "       Chg%  \n",
              "0    0.0020  \n",
              "1    0.0043  \n",
              "2   -0.0020  \n",
              "3   -0.0026  \n",
              "4   -0.0023  \n",
              "..      ...  \n",
              "244 -0.0024  \n",
              "245 -0.0031  \n",
              "246 -0.0051  \n",
              "247  0.0362  \n",
              "248  0.0032  \n",
              "\n",
              "[249 rows x 9 columns]"
            ],
            "text/html": [
              "\n",
              "  <div id=\"df-46327f97-906d-4e12-9210-b64adc6af631\">\n",
              "    <div class=\"colab-df-container\">\n",
              "      <div>\n",
              "<style scoped>\n",
              "    .dataframe tbody tr th:only-of-type {\n",
              "        vertical-align: middle;\n",
              "    }\n",
              "\n",
              "    .dataframe tbody tr th {\n",
              "        vertical-align: top;\n",
              "    }\n",
              "\n",
              "    .dataframe thead th {\n",
              "        text-align: right;\n",
              "    }\n",
              "</style>\n",
              "<table border=\"1\" class=\"dataframe\">\n",
              "  <thead>\n",
              "    <tr style=\"text-align: right;\">\n",
              "      <th></th>\n",
              "      <th>Date</th>\n",
              "      <th>Month</th>\n",
              "      <th>Day</th>\n",
              "      <th>Price</th>\n",
              "      <th>Open</th>\n",
              "      <th>High</th>\n",
              "      <th>Low</th>\n",
              "      <th>Volume</th>\n",
              "      <th>Chg%</th>\n",
              "    </tr>\n",
              "  </thead>\n",
              "  <tbody>\n",
              "    <tr>\n",
              "      <th>0</th>\n",
              "      <td>Jun 29, 2021</td>\n",
              "      <td>Jun</td>\n",
              "      <td>Tue</td>\n",
              "      <td>2081.85</td>\n",
              "      <td>2092.00</td>\n",
              "      <td>2126.90</td>\n",
              "      <td>2065.05</td>\n",
              "      <td>1.67M</td>\n",
              "      <td>0.0020</td>\n",
              "    </tr>\n",
              "    <tr>\n",
              "      <th>1</th>\n",
              "      <td>Jun 28, 2021</td>\n",
              "      <td>Jun</td>\n",
              "      <td>Mon</td>\n",
              "      <td>2077.75</td>\n",
              "      <td>2084.00</td>\n",
              "      <td>2112.45</td>\n",
              "      <td>2068.40</td>\n",
              "      <td>707.73K</td>\n",
              "      <td>0.0043</td>\n",
              "    </tr>\n",
              "    <tr>\n",
              "      <th>2</th>\n",
              "      <td>Jun 25, 2021</td>\n",
              "      <td>Jun</td>\n",
              "      <td>Fri</td>\n",
              "      <td>2068.85</td>\n",
              "      <td>2084.35</td>\n",
              "      <td>2088.50</td>\n",
              "      <td>2053.10</td>\n",
              "      <td>475.82K</td>\n",
              "      <td>-0.0020</td>\n",
              "    </tr>\n",
              "    <tr>\n",
              "      <th>3</th>\n",
              "      <td>Jun 24, 2021</td>\n",
              "      <td>Jun</td>\n",
              "      <td>Thu</td>\n",
              "      <td>2072.95</td>\n",
              "      <td>2098.00</td>\n",
              "      <td>2098.00</td>\n",
              "      <td>2066.00</td>\n",
              "      <td>541.51K</td>\n",
              "      <td>-0.0026</td>\n",
              "    </tr>\n",
              "    <tr>\n",
              "      <th>4</th>\n",
              "      <td>Jun 23, 2021</td>\n",
              "      <td>Jun</td>\n",
              "      <td>Wed</td>\n",
              "      <td>2078.25</td>\n",
              "      <td>2102.00</td>\n",
              "      <td>2111.40</td>\n",
              "      <td>2072.00</td>\n",
              "      <td>809.62K</td>\n",
              "      <td>-0.0023</td>\n",
              "    </tr>\n",
              "    <tr>\n",
              "      <th>...</th>\n",
              "      <td>...</td>\n",
              "      <td>...</td>\n",
              "      <td>...</td>\n",
              "      <td>...</td>\n",
              "      <td>...</td>\n",
              "      <td>...</td>\n",
              "      <td>...</td>\n",
              "      <td>...</td>\n",
              "      <td>...</td>\n",
              "    </tr>\n",
              "    <tr>\n",
              "      <th>244</th>\n",
              "      <td>Jul 07, 2020</td>\n",
              "      <td>Jul</td>\n",
              "      <td>Tue</td>\n",
              "      <td>1397.40</td>\n",
              "      <td>1410.00</td>\n",
              "      <td>1411.00</td>\n",
              "      <td>1390.05</td>\n",
              "      <td>480.21K</td>\n",
              "      <td>-0.0024</td>\n",
              "    </tr>\n",
              "    <tr>\n",
              "      <th>245</th>\n",
              "      <td>Jul 06, 2020</td>\n",
              "      <td>Jul</td>\n",
              "      <td>Mon</td>\n",
              "      <td>1400.75</td>\n",
              "      <td>1405.50</td>\n",
              "      <td>1415.50</td>\n",
              "      <td>1394.00</td>\n",
              "      <td>614.93K</td>\n",
              "      <td>-0.0031</td>\n",
              "    </tr>\n",
              "    <tr>\n",
              "      <th>246</th>\n",
              "      <td>Jul 03, 2020</td>\n",
              "      <td>Jul</td>\n",
              "      <td>Fri</td>\n",
              "      <td>1405.10</td>\n",
              "      <td>1415.00</td>\n",
              "      <td>1425.00</td>\n",
              "      <td>1398.00</td>\n",
              "      <td>599.49K</td>\n",
              "      <td>-0.0051</td>\n",
              "    </tr>\n",
              "    <tr>\n",
              "      <th>247</th>\n",
              "      <td>Jul 02, 2020</td>\n",
              "      <td>Jul</td>\n",
              "      <td>Thu</td>\n",
              "      <td>1412.35</td>\n",
              "      <td>1440.00</td>\n",
              "      <td>1467.80</td>\n",
              "      <td>1395.30</td>\n",
              "      <td>2.16M</td>\n",
              "      <td>0.0362</td>\n",
              "    </tr>\n",
              "    <tr>\n",
              "      <th>248</th>\n",
              "      <td>Jul 01, 2020</td>\n",
              "      <td>Jul</td>\n",
              "      <td>Wed</td>\n",
              "      <td>1363.05</td>\n",
              "      <td>1363.65</td>\n",
              "      <td>1377.00</td>\n",
              "      <td>1356.00</td>\n",
              "      <td>383.00K</td>\n",
              "      <td>0.0032</td>\n",
              "    </tr>\n",
              "  </tbody>\n",
              "</table>\n",
              "<p>249 rows × 9 columns</p>\n",
              "</div>\n",
              "      <button class=\"colab-df-convert\" onclick=\"convertToInteractive('df-46327f97-906d-4e12-9210-b64adc6af631')\"\n",
              "              title=\"Convert this dataframe to an interactive table.\"\n",
              "              style=\"display:none;\">\n",
              "        \n",
              "  <svg xmlns=\"http://www.w3.org/2000/svg\" height=\"24px\"viewBox=\"0 0 24 24\"\n",
              "       width=\"24px\">\n",
              "    <path d=\"M0 0h24v24H0V0z\" fill=\"none\"/>\n",
              "    <path d=\"M18.56 5.44l.94 2.06.94-2.06 2.06-.94-2.06-.94-.94-2.06-.94 2.06-2.06.94zm-11 1L8.5 8.5l.94-2.06 2.06-.94-2.06-.94L8.5 2.5l-.94 2.06-2.06.94zm10 10l.94 2.06.94-2.06 2.06-.94-2.06-.94-.94-2.06-.94 2.06-2.06.94z\"/><path d=\"M17.41 7.96l-1.37-1.37c-.4-.4-.92-.59-1.43-.59-.52 0-1.04.2-1.43.59L10.3 9.45l-7.72 7.72c-.78.78-.78 2.05 0 2.83L4 21.41c.39.39.9.59 1.41.59.51 0 1.02-.2 1.41-.59l7.78-7.78 2.81-2.81c.8-.78.8-2.07 0-2.86zM5.41 20L4 18.59l7.72-7.72 1.47 1.35L5.41 20z\"/>\n",
              "  </svg>\n",
              "      </button>\n",
              "      \n",
              "  <style>\n",
              "    .colab-df-container {\n",
              "      display:flex;\n",
              "      flex-wrap:wrap;\n",
              "      gap: 12px;\n",
              "    }\n",
              "\n",
              "    .colab-df-convert {\n",
              "      background-color: #E8F0FE;\n",
              "      border: none;\n",
              "      border-radius: 50%;\n",
              "      cursor: pointer;\n",
              "      display: none;\n",
              "      fill: #1967D2;\n",
              "      height: 32px;\n",
              "      padding: 0 0 0 0;\n",
              "      width: 32px;\n",
              "    }\n",
              "\n",
              "    .colab-df-convert:hover {\n",
              "      background-color: #E2EBFA;\n",
              "      box-shadow: 0px 1px 2px rgba(60, 64, 67, 0.3), 0px 1px 3px 1px rgba(60, 64, 67, 0.15);\n",
              "      fill: #174EA6;\n",
              "    }\n",
              "\n",
              "    [theme=dark] .colab-df-convert {\n",
              "      background-color: #3B4455;\n",
              "      fill: #D2E3FC;\n",
              "    }\n",
              "\n",
              "    [theme=dark] .colab-df-convert:hover {\n",
              "      background-color: #434B5C;\n",
              "      box-shadow: 0px 1px 3px 1px rgba(0, 0, 0, 0.15);\n",
              "      filter: drop-shadow(0px 1px 2px rgba(0, 0, 0, 0.3));\n",
              "      fill: #FFFFFF;\n",
              "    }\n",
              "  </style>\n",
              "\n",
              "      <script>\n",
              "        const buttonEl =\n",
              "          document.querySelector('#df-46327f97-906d-4e12-9210-b64adc6af631 button.colab-df-convert');\n",
              "        buttonEl.style.display =\n",
              "          google.colab.kernel.accessAllowed ? 'block' : 'none';\n",
              "\n",
              "        async function convertToInteractive(key) {\n",
              "          const element = document.querySelector('#df-46327f97-906d-4e12-9210-b64adc6af631');\n",
              "          const dataTable =\n",
              "            await google.colab.kernel.invokeFunction('convertToInteractive',\n",
              "                                                     [key], {});\n",
              "          if (!dataTable) return;\n",
              "\n",
              "          const docLinkHtml = 'Like what you see? Visit the ' +\n",
              "            '<a target=\"_blank\" href=https://colab.research.google.com/notebooks/data_table.ipynb>data table notebook</a>'\n",
              "            + ' to learn more about interactive tables.';\n",
              "          element.innerHTML = '';\n",
              "          dataTable['output_type'] = 'display_data';\n",
              "          await google.colab.output.renderOutput(dataTable, element);\n",
              "          const docLink = document.createElement('div');\n",
              "          docLink.innerHTML = docLinkHtml;\n",
              "          element.appendChild(docLink);\n",
              "        }\n",
              "      </script>\n",
              "    </div>\n",
              "  </div>\n",
              "  "
            ]
          },
          "metadata": {},
          "execution_count": 77
        }
      ]
    },
    {
      "cell_type": "code",
      "source": [
        "#Calculate the mean and variance of the Price data present in column D. \n",
        "print(IRC[\"Price\"].mean())\n",
        "IRC[\"Price\"].var()"
      ],
      "metadata": {
        "id": "o9IR0ktd70WN",
        "colab": {
          "base_uri": "https://localhost:8080/"
        },
        "outputId": "d860f892-3eac-44d7-d579-bafe20bbd9dd"
      },
      "execution_count": 78,
      "outputs": [
        {
          "output_type": "stream",
          "name": "stdout",
          "text": [
            "1560.6634538152612\n"
          ]
        },
        {
          "output_type": "execute_result",
          "data": {
            "text/plain": [
              "58732.36535253918"
            ]
          },
          "metadata": {},
          "execution_count": 78
        }
      ]
    },
    {
      "cell_type": "code",
      "source": [
        "#Select the price data for all Wednesdays and calculate the sample mean. Compare the mean with the population mean and note your observations.\n",
        "\n",
        "import statistics\n",
        "data1 = IRC.loc[IRC['Day'] == 'Wed']['Price']\n",
        "data2 = data1.sample(frac = 0.1)    # Select 10% of values for Sample mean\n",
        "print(f\"Sample mean of the Price column on Wednesday is {statistics.mean(data2)}\")\n",
        "print(f\"Population mean of the Price column on Wednesday is {statistics.mean(data1)}\")"
      ],
      "metadata": {
        "colab": {
          "base_uri": "https://localhost:8080/"
        },
        "id": "CR_HcBBMW4e_",
        "outputId": "dac33686-9439-4efa-ede0-ac9fb111690f"
      },
      "execution_count": 79,
      "outputs": [
        {
          "output_type": "stream",
          "name": "stdout",
          "text": [
            "Sample mean of the Price column on Wednesday is 1504.68\n",
            "Population mean of the Price column on Wednesday is 1550.706\n"
          ]
        }
      ]
    },
    {
      "cell_type": "code",
      "source": [
        "#Select the price data for the month of Apr and calculate the sample mean. Compare the mean with the population mean and note your observations.\n",
        "\n",
        "d1 = IRC.loc[IRC['Month'] == 'Apr']['Price']\n",
        "d2 = d1.sample(frac = 0.1)    # Select 10% of values for Sample mean\n",
        "print(f\"Sample mean of the Price column on Wednesday is {statistics.mean(d2)}\")\n",
        "print(f\"Population mean of the Price column on Wednesday is {statistics.mean(d1)}\")"
      ],
      "metadata": {
        "colab": {
          "base_uri": "https://localhost:8080/"
        },
        "id": "DbZO9xTlvqmx",
        "outputId": "30d07ddd-c452-4bcc-affd-065741cc93aa"
      },
      "execution_count": 80,
      "outputs": [
        {
          "output_type": "stream",
          "name": "stdout",
          "text": [
            "Sample mean of the Price column on Wednesday is 1625.85\n",
            "Population mean of the Price column on Wednesday is 1698.9526315789474\n"
          ]
        }
      ]
    },
    {
      "cell_type": "code",
      "source": [
        "#From the Chg% (available in column I) find the probability of making a loss over the stock. \n",
        "\n",
        "min_values = list(filter(lambda x: x <= 0, IRC['Chg%']))\n",
        "plus_values = list(filter(lambda x: x > 0, IRC['Chg%']))\n",
        "sum1 = len(plus_values)\n",
        "sum2 = abs(len(min_values))\n",
        "sum = sum1 + sum2\n",
        "prob_loss = round((sum2/ sum)*100, 2) \n",
        "print(f\"Probability of making a loss over the stock is: {prob_loss} %\")"
      ],
      "metadata": {
        "colab": {
          "base_uri": "https://localhost:8080/"
        },
        "id": "6O9tQ-mFGGjy",
        "outputId": "1bc232ca-f76a-489f-f45a-c3f914d04868"
      },
      "execution_count": 81,
      "outputs": [
        {
          "output_type": "stream",
          "name": "stdout",
          "text": [
            "Probability of making a loss over the stock is: 50.2 %\n"
          ]
        }
      ]
    },
    {
      "cell_type": "code",
      "source": [
        "#Calculate the probability of making a profit on Wednesday.\n",
        "\n",
        "wed = IRC.loc[IRC['Day'] == 'Wed']['Chg%']\n",
        "nv_wed = list(filter(lambda x: x <= 0, wed))\n",
        "pv_wed = list(filter(lambda x: x > 0, wed))\n",
        "pwed_sum = len(pv_wed)\n",
        "nwed_sum = abs(len(nv_wed))\n",
        "fullsum = pwed_sum  + nwed_sum\n",
        "wed_profit = round((pwed_sum / fullsum)*100, 2) \n",
        "print(f\"Probability of making a profit over the stock on Wednesday is: {wed_profit} %\")"
      ],
      "metadata": {
        "colab": {
          "base_uri": "https://localhost:8080/"
        },
        "id": "83JvDSiHGJwy",
        "outputId": "899014ad-ce97-41e9-f0a3-5d8d29c47e1b"
      },
      "execution_count": 82,
      "outputs": [
        {
          "output_type": "stream",
          "name": "stdout",
          "text": [
            "Probability of making a profit over the stock on Wednesday is: 42.0 %\n"
          ]
        }
      ]
    },
    {
      "cell_type": "code",
      "source": [
        "#Calculate the conditional probability of making profit, given that today is Wednesday.\n",
        "\n",
        "wed_Rec = IRC.loc[IRC['Day'] == 'Wed']\n",
        "data_entries = wed_Rec.shape[0]\n",
        "T_entries = IRC.shape[0]\n",
        "wedprob= round((data_entries/T_entries)*100, 2)\n",
        "\n",
        "print(f\"Probability of a day being Wednesday is: {wedprob} %\")\n",
        "profit = 100 - prob_loss\n",
        "print(f\"Probability of making overall profit is: {profit} %\")\n",
        "\n",
        "cond_prob = round((profit*wedprob)/wedprob,2)\n",
        "print(f\"conditional probability of making profit, given that today is Wednesday is: {cond_prob } %\")"
      ],
      "metadata": {
        "colab": {
          "base_uri": "https://localhost:8080/"
        },
        "id": "ruE7cdRuGMUg",
        "outputId": "ecadf7b7-b29f-4e0c-c208-ed9c4de8e1be"
      },
      "execution_count": 83,
      "outputs": [
        {
          "output_type": "stream",
          "name": "stdout",
          "text": [
            "Probability of a day being Wednesday is: 20.08 %\n",
            "Probability of making overall profit is: 49.8 %\n",
            "conditional probability of making profit, given that today is Wednesday is: 49.8 %\n"
          ]
        }
      ]
    },
    {
      "cell_type": "code",
      "source": [
        "#Make a scatter plot of Chg% data against the day of the week\n",
        "\n",
        "import matplotlib.pyplot as plt\n",
        "# plt.scatter(IRC['Chg%'], IRC['Day'])\n",
        "plt.scatter(IRC['Day'], IRC['Chg%'])\n",
        "plt.show()"
      ],
      "metadata": {
        "colab": {
          "base_uri": "https://localhost:8080/",
          "height": 268
        },
        "id": "2bNFFnnyGPVV",
        "outputId": "941a3ce6-efa9-4e58-959b-3f11762e7200"
      },
      "execution_count": 84,
      "outputs": [
        {
          "output_type": "display_data",
          "data": {
            "text/plain": [
              "<Figure size 432x288 with 1 Axes>"
            ],
            "image/png": "[encoded data removed]"
          },
          "metadata": {
            "needs_background": "light"
          }
        }
      ]
    }
  ]
}